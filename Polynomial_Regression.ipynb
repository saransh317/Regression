{
  "nbformat": 4,
  "nbformat_minor": 0,
  "metadata": {
    "colab": {
      "name": "Polynomial Regression.ipynb",
      "provenance": [],
      "authorship_tag": "ABX9TyMkI6VioNt6NiMwqJtVPBGw"
    },
    "kernelspec": {
      "name": "python3",
      "display_name": "Python 3"
    }
  },
  "cells": [
    {
      "cell_type": "code",
      "metadata": {
        "id": "4YGD_0UOi0Aw",
        "colab_type": "code",
        "colab": {
          "base_uri": "https://localhost:8080/",
          "height": 265
        },
        "outputId": "d0469ed2-2790-4d31-8ce2-572b326138a4"
      },
      "source": [
        "import numpy as np\n",
        "import matplotlib.pyplot as plt\n",
        "\n",
        "x = [1,2,3,5,6,7,8,9,10,12,13,14,15,16,18,19,21,22]\n",
        "y = [100,90,80,60,60,55,60,65,70,70,75,76,78,79,90,99,99,100]\n",
        "\n",
        "mymodel = numpy.poly1d(numpy.polyfit(x, y, 3))\n",
        "\n",
        "myline = numpy.linspace(1, 22, 100)\n",
        "\n",
        "plt.scatter(x, y)\n",
        "plt.plot(myline, mymodel(myline))\n",
        "plt.show()"
      ],
      "execution_count": null,
      "outputs": [
        {
          "output_type": "display_data",
          "data": {
            "image/png": "[encoded data removed]",
            "text/plain": [
              "<Figure size 432x288 with 1 Axes>"
            ]
          },
          "metadata": {
            "tags": [],
            "needs_background": "light"
          }
        }
      ]
    },
    {
      "cell_type": "markdown",
      "metadata": {
        "id": "xvlokzZcmkBA",
        "colab_type": "text"
      },
      "source": [
        "Coefficients"
      ]
    },
    {
      "cell_type": "code",
      "metadata": {
        "id": "KxwO7mVuj8pP",
        "colab_type": "code",
        "colab": {
          "base_uri": "https://localhost:8080/",
          "height": 52
        },
        "outputId": "b47cad72-30f2-4cfc-fb79-da1cd8e526e6"
      },
      "source": [
        "np.poly1d(mymodel).c, np.poly1d(mymodel).o"
      ],
      "execution_count": null,
      "outputs": [
        {
          "output_type": "execute_result",
          "data": {
            "text/plain": [
              "(array([-3.03208795e-02,  1.34333191e+00, -1.55383039e+01,  1.13768037e+02]),\n",
              " 3)"
            ]
          },
          "metadata": {
            "tags": []
          },
          "execution_count": 18
        }
      ]
    },
    {
      "cell_type": "markdown",
      "metadata": {
        "id": "7bLpYhMKmggN",
        "colab_type": "text"
      },
      "source": [
        "Roots of the Polynomial"
      ]
    },
    {
      "cell_type": "code",
      "metadata": {
        "id": "ZLgQzTfdlh70",
        "colab_type": "code",
        "colab": {
          "base_uri": "https://localhost:8080/",
          "height": 52
        },
        "outputId": "8b7590bb-5a5a-4867-8d9e-875f04b838ad"
      },
      "source": [
        "np.poly1d(mymodel).roots"
      ],
      "execution_count": null,
      "outputs": [
        {
          "output_type": "execute_result",
          "data": {
            "text/plain": [
              "array([31.93629721+0.j        ,  6.18377993+8.90218923j,\n",
              "        6.18377993-8.90218923j])"
            ]
          },
          "metadata": {
            "tags": []
          },
          "execution_count": 19
        }
      ]
    },
    {
      "cell_type": "markdown",
      "metadata": {
        "id": "RYPnEJf8mz_l",
        "colab_type": "text"
      },
      "source": [
        "R^2 Score"
      ]
    },
    {
      "cell_type": "code",
      "metadata": {
        "id": "HQmtZorhmc2H",
        "colab_type": "code",
        "colab": {
          "base_uri": "https://localhost:8080/",
          "height": 35
        },
        "outputId": "f1b18ac4-2ec9-42c7-f717-c9f1b655ccdd"
      },
      "source": [
        "from sklearn.metrics import r2_score\n",
        "r2_score(y, mymodel(x))"
      ],
      "execution_count": null,
      "outputs": [
        {
          "output_type": "execute_result",
          "data": {
            "text/plain": [
              "0.9432150416451025"
            ]
          },
          "metadata": {
            "tags": []
          },
          "execution_count": 21
        }
      ]
    },
    {
      "cell_type": "code",
      "metadata": {
        "id": "pGRfLp3AmtWY",
        "colab_type": "code",
        "colab": {}
      },
      "source": [
        ""
      ],
      "execution_count": null,
      "outputs": []
    }
  ]
}